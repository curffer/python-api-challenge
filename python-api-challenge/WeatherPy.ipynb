{
 "cells": [
  {
   "cell_type": "markdown",
   "metadata": {},
   "source": [
    "# WeatherPy\n",
    "\n",
    "---\n",
    "\n",
    "## Starter Code to Generate Random Geographic Coordinates and a List of Cities"
   ]
  },
  {
   "cell_type": "code",
   "execution_count": 60,
   "metadata": {
    "scrolled": true
   },
   "outputs": [
    {
     "name": "stdout",
     "output_type": "stream",
     "text": [
      "b18a6c6caeec379104478408ff71045c\n"
     ]
    }
   ],
   "source": [
    "# Dependencies and Setup\n",
    "import matplotlib.pyplot as plt\n",
    "import pandas as pd\n",
    "import numpy as np\n",
    "import requests\n",
    "import time\n",
    "from scipy.stats import linregress\n",
    "from scipy import stats\n",
    "\n",
    "# Impor the OpenWeatherMap API key\n",
    "from api_keys import weather_api_key\n",
    "\n",
    "# Import citipy to determine the cities based on latitude and longitude\n",
    "from citipy import citipy\n",
    "print(weather_api_key)"
   ]
  },
  {
   "cell_type": "markdown",
   "metadata": {},
   "source": [
    "### Generate the Cities List by Using the `citipy` Library"
   ]
  },
  {
   "cell_type": "code",
   "execution_count": 7,
   "metadata": {},
   "outputs": [
    {
     "name": "stdout",
     "output_type": "stream",
     "text": [
      "Number of cities in the list: 600\n",
      "['saleaula', 'rikitea', 'huntingdon', 'jamestown', 'bandraboua', 'ulladulla', 'turtas', 'albany', 'katobu', 'ushuaia', 'nuuk', 'chunoyar', 'mataura', 'akyab', 'chokurdakh', 'provideniya', 'luderitz', 'bredasdorp', 'ribeira grande', 'atuona', 'mahebourg', 'mahbubabad', 'belushya guba', 'port alfred', 'sfantu gheorghe', 'punta arenas', 'siavonga', 'cape town', 'faanui', 'arraial do cabo', 'vaini', 'cherskiy', 'hilo', 'payakumbuh', 'tabuk', 'kapaa', 'hithadhoo', 'qaanaaq', 'hirara', 'vao', 'taolanaro', 'notre-dame-du-lac', 'adrar', 'ancud', 'geraldton', 'port lincoln', 'illoqqortoormiut', 'busselton', 'avera', 'lorengau', 'torbay', 'kankon', 'hobart', 'ahuimanu', 'santa vitoria do palmar', 'thompson', 'tolaga bay', 'samusu', 'grindavik', 'yellowknife', 'avarua', 'bluff', 'chuy', 'hermanus', 'barrow', 'turukhansk', 'sentyabrskiy', 'kudahuvadhoo', 'nizhneyansk', 'sturgeon bay', 'norman wells', 'tevaitoa', 'axim', 'lebu', 'new norfolk', 'hamilton', 'georgetown', 'limbang', 'asau', 'bermejo', 'atherton', 'sitka', 'pemangkat', 'kavieng', 'palmer', 'tungkang', 'lompoc', 'tuktoyaktuk', 'castro', 'tasiilaq', 'pozo colorado', 'upernavik', 'sorvag', 'polis', 'kaitangata', 'dingle', 'kaka', 'kawalu', 'pimenta bueno', 'cedral', 'nakhon phanom', 'qaqortoq', 'roseburg', 'east london', 'san quintin', 'kachug', 'lagoa', 'mubende', 'saint-philippe', 'mackay', 'fukue', 'ponta do sol', 'buala', 'ucluelet', 'jining', 'portland', 'fredericton', 'tunduru', 'butaritari', 'codrington', 'sept-iles', 'longyearbyen', 'tortoli', 'berlevag', 'pamanukan', 'severo-yeniseyskiy', 'champerico', 'camacha', 'meulaboh', 'severo-kurilsk', 'imbituba', 'hasaki', 'laguna', 'narsaq', 'cabo san lucas', 'khatanga', 'saskylakh', 'kruisfontein', 'puerto ayora', 'qasigiannguit', 'wulanhaote', 'angren', 'katsuura', 'otane', 'mount isa', 'pacific grove', 'gushikawa', 'brewster', 'namibe', 'samarai', 'shitanjing', 'aqtobe', 'kaeo', 'souillac', 'louisbourg', 'dikson', 'salalah', 'korla', 'mar del plata', 'bambous virieux', 'leningradskiy', 'fortuna', 'vilya', 'kadykchan', 'beloha', 'pevek', 'san cristobal', 'kavaratti', 'kenai', 'karkaralinsk', 'takoradi', 'zomin', 'carbonia', 'santiago de cuba', 'pontian kecil', 'tumannyy', 'kirakira', 'zapolyarnyy', 'jaguaribe', 'saint-pierre', 'hambantota', 'maracas', 'kaina', 'tuatapere', 'bayanday', 'tsihombe', 'bereda', 'karasburg', 'saint george', 'khandyga', 'kurilsk', 'medeiros neto', 'carnarvon', 'kikwit', 'tiksi', 'riyadh', 'kodiak', 'talnakh', 'barentsburg', 'sao joao da barra', 'santa rosa', 'santa ines', 'goure', 'sakakah', 'teya', 'sedelnikovo', 'san jeronimo', 'nantucket', 'sibolga', 'pringsewu', 'goderich', 'la palma', 'victoria', 'airai', 'naze', 'mys shmidta', 'majene', 'padang', 'concordia sagittaria', 'ferai', 'alice springs', 'turayf', 'karratha', 'vanimo', 'andenes', 'marcona', 'iracoubo', 'bacolod', 'tezu', 'luau', 'gao', 'mayumba', 'nikolskoye', 'asfi', 'umzimvubu', 'vila', 'dolbeau', 'zhanakorgan', 'ravar', 'pisco', 'nome', 'chicama', 'abha', 'ahipara', 'hailar', 'baykit', 'nanyamba', 'umm lajj', 'nago', 'la rioja', 'elizabeth city', 'los llanos de aridane', 'mareeba', 'fremont', 'strangnas', 'wanning', 'vardo', 'lushoto', 'bay city', 'cidreira', 'bengkulu', 'misratah', 'dawson creek', 'huarmey', 'labutta', 'vila velha', 'allapalli', 'ugoofaaru', 'oksfjord', 'isangel', 'villa altagracia', 'burica', 'te anau', 'bilibino', 'port elizabeth', 'fort frances', 'yankton', 'yar-sale', 'morros', 'constitucion', 'warrington', 'winneba', 'touros', 'guerrero negro', 'boyolangu', 'bardiyah', 'marrakesh', 'krasnoselkup', 'san-pedro', 'kailahun', 'charters towers', 'hami', 'dudinka', 'mendi', 'egvekinot', 'kroya', 'sao filipe', 'xichang', 'barawe', 'muros', 'lashio', 'tha mai', 'talcahuano', 'tarauaca', 'itarema', 'buon me thuot', 'manuk mangkaw', 'kitui', 'zhongshu', 'hualmay', 'pimentel', 'bheramara', 'salisbury', 'baikunthpur', 'nouadhibou', 'hammerfest', 'kazalinsk', 'panaba', 'batagay', 'indramayu', 'iqaluit', 'tiznit', 'cacapava do sul', 'kununurra', 'cutervo', 'hokitika', 'nabire', 'fallon', 'san luis', 'chilca', 'viedma', 'hellvik', 'raga', 'limulunga', 'granada', 'newport', 'esperance', 'broome', 'comodoro rivadavia', 'palabuhanratu', 'durban', 'birjand', 'bhawanipatna', 'lac-megantic', 'banda aceh', 'gouyave', 'dali', 'faya', 'mullaitivu', 'tsiroanomandidy', 'amparafaravola', 'lakatoro', 'kattivakkam', 'mana', 'arman', 'attawapiskat', 'olenegorsk', 'jiexiu', 'sinnamary', 'weligama', 'farias brito', 'javanrud', 'amga', 'rapid valley', 'roma', 'port-gentil', 'lavrentiya', 'teguise', 'gat', 'whitehorse', 'berekum', 'grand river south east', 'basco', 'beringovskiy', 'acatlan', 'mihijam', 'tromso', 'muzquiz', 'pangnirtung', 'nishihara', 'kommunar', 'amderma', 'itupiranga', 'karauzyak', 'cibitoke', 'senno', 'presidencia roque saenz pena', 'rawlins', 'tommot', 'petropavlovskoye', 'talawdi', 'khonuu', 'lata', 'merritt', 'tramandai', 'la quinta', 'terrace bay', 'vung tau', 'raton', 'darnah', 'haines junction', 'basar', 'cacu', 'kiunga', 'areosa', 'chabahar', 'klaksvik', 'bethel', 'mildura', 'yatou', 'daxian', 'cerro largo', 'yulara', 'sarkand', 'ejura', 'russell', 'tungor', 'micheweni', 'zalantun', 'williams lake', 'shingu', 'alofi', 'iringa', 'skibbereen', 'quang ngai', 'iguape', 'dunedin', 'taoudenni', 'husavik', 'abramovka', 'port blair', 'tigil', 'jaque', 'valparaiso', 'bulgan', 'marsabit', 'pitimbu', 'ustrzyki dolne', 'port hedland', 'kumo', 'ketchikan', 'kuito', 'fairbanks', 'gavle', 'didsbury', 'irmo', 'oriximina', 'northam', 'pakxan', 'joutseno', 'xacmaz', 'anloga', 'sorland', 'la ronge', 'havre-saint-pierre', 'oranjemund', 'labuhan', 'shizukuishi', 'san patricio', 'hunterville', 'umm jarr', 'dakar', 'osoyoos', 'yangjiang', 'smithers', 'san rafael', 'saint anthony', 'lloret de mar', 'san rafael del sur', 'maltahohe', 'marihatag', 'okakarara', 'port hardy', 'kaunas', 'mama', 'sangar', 'thano bula khan', 'brattleboro', 'mayo', 'marystown', 'ortona', 'tombouctou', 'saint-augustin', 'cap malheureux', 'san javier', 'constantine', 'clyde river', 'ignatovka', 'itaituba', 'ocumare del tuy', 'palu', 'hovd', 'maple creek', 'smolenka', 'shelburne', 'grand-santi', 'rio gallegos', 'muzhi', 'namatanai', 'vestmannaeyjar', 'nemuro', 'soyo', 'escanaba', 'khash', 'amapa', 'pahuatlan', 'vega de alatorre', 'richards bay', 'zeya', 'maumere', 'deputatskiy', 'mastic beach', 'alotau', 'chioggia', 'aykhal', 'lebowakgomo', 'xiongyue', 'komsomolskiy', 'verkhnevilyuysk', 'ardabil', 'cayenne', 'mehamn', 'chimbarongo', 'salamanca', 'gizo', 'safita', 'katherine', 'felidhoo', 'nouakchott', 'road town', 'puerto del rosario', 'phan thiet', 'dzhusaly', 'hobyo', 'ijaki', 'kamien pomorski', 'nelson bay', 'atambua', 'medveda', 'tabou', 'mezotur', 'samalaeulu', 'bulawayo', 'greymouth', 'sapa', 'mandalgovi', 'gasa', 'vaitupu', 'puerto colombia', 'ushtobe', 'angoche', 'tecoanapa', 'warqla', 'mount gambier', 'canchungo', 'nauta', 'tabiauea', 'ruatoria', 'ginda', 'thinadhoo', 'olafsvik', 'nanortalik', 'beyneu', 'saldanha', 'maldonado', 'labrea', 'moranbah', 'mogochin', 'springfield', 'douentza', 'tucupita', 'ambon', 'awjilah', 'doka', 'port moresby', 'grand gaube', 'san juan', 'nautla', 'maua', 'benin', 'walvis bay', 'jvari', 'barmer', 'kotaparh', 'lasa', 'lingao', 'paamiut', 'abiy adi', 'ranipur', 'port jervis', 'halifax', 'kloulklubed', 'vagur', 'barbar', 'salinopolis', 'acajutla', 'arusha', 'ulety', 'bemidji', 'college']\n"
     ]
    }
   ],
   "source": [
    "# Empty list for holding the latitude and longitude combinations\n",
    "lat_lngs = []\n",
    "\n",
    "# Empty list for holding the cities names\n",
    "cities = []\n",
    "\n",
    "# Range of latitudes and longitudes\n",
    "lat_range = (-90, 90)\n",
    "lng_range = (-180, 180)\n",
    "\n",
    "# Create a set of random lat and lng combinations\n",
    "lats = np.random.uniform(lat_range[0], lat_range[1], size=1500)\n",
    "lngs = np.random.uniform(lng_range[0], lng_range[1], size=1500)\n",
    "lat_lngs = zip(lats, lngs)\n",
    "\n",
    "# Identify nearest city for each lat, lng combination\n",
    "for lat_lng in lat_lngs:\n",
    "    city = citipy.nearest_city(lat_lng[0], lat_lng[1]).city_name\n",
    "    \n",
    "    # If the city is unique, then add it to a our cities list\n",
    "    if city not in cities:\n",
    "        cities.append(city)\n",
    "\n",
    "# Print the city count to confirm sufficient count\n",
    "print(f\"Number of cities in the list: {len(cities)}\")\n",
    "print(cities)"
   ]
  },
  {
   "cell_type": "markdown",
   "metadata": {},
   "source": [
    "---"
   ]
  },
  {
   "cell_type": "code",
   "execution_count": 4,
   "metadata": {},
   "outputs": [
    {
     "name": "stdout",
     "output_type": "stream",
     "text": [
      "{'coord': {'lon': -101.865, 'lat': 54.7682}, 'weather': [{'id': 802, 'main': 'Clouds', 'description': 'scattered clouds', 'icon': '03n'}], 'base': 'stations', 'main': {'temp': -14.09, 'feels_like': -18.98, 'temp_min': -14.09, 'temp_max': -14.09, 'pressure': 1028, 'humidity': 78}, 'visibility': 10000, 'wind': {'speed': 2.06, 'deg': 240}, 'clouds': {'all': 40}, 'dt': 1668123033, 'sys': {'type': 1, 'id': 782, 'country': 'CA', 'sunrise': 1668089327, 'sunset': 1668120846}, 'timezone': -21600, 'id': 5954718, 'name': 'Flin Flon', 'cod': 200}\n"
     ]
    }
   ],
   "source": [
    "city=\"flin flon\"\n",
    "url = \"http://api.openweathermap.org/data/2.5/weather?\"\n",
    "units = \"metric\"\n",
    "query_url = f\"{url}appid={weather_api_key}&units={units}&q=\"\n",
    "city_url = query_url + city\n",
    "response = requests.get(city_url).json()\n",
    "print(response)"
   ]
  },
  {
   "cell_type": "markdown",
   "metadata": {},
   "source": [
    "## Requirement 1: Create Plots to Showcase the Relationship Between Weather Variables and Latitude\n",
    "\n",
    "### Use the OpenWeatherMap API to retrieve weather data from the cities list generated in the started code"
   ]
  },
  {
   "cell_type": "code",
   "execution_count": 8,
   "metadata": {},
   "outputs": [
    {
     "name": "stdout",
     "output_type": "stream",
     "text": [
      "Beginning Data Retrieval     \n",
      "-----------------------------\n",
      "Processing Record 1 of Set 1 | saleaula\n",
      "City not found. Skipping...\n",
      "Processing Record 2 of Set 1 | rikitea\n",
      "Processing Record 3 of Set 1 | huntingdon\n",
      "Processing Record 4 of Set 1 | jamestown\n",
      "Processing Record 5 of Set 1 | bandraboua\n",
      "Processing Record 6 of Set 1 | ulladulla\n",
      "Processing Record 7 of Set 1 | turtas\n",
      "Processing Record 8 of Set 1 | albany\n",
      "Processing Record 9 of Set 1 | katobu\n",
      "Processing Record 10 of Set 1 | ushuaia\n",
      "Processing Record 11 of Set 1 | nuuk\n",
      "Processing Record 12 of Set 1 | chunoyar\n",
      "Processing Record 13 of Set 1 | mataura\n",
      "Processing Record 14 of Set 1 | akyab\n",
      "Processing Record 15 of Set 1 | chokurdakh\n",
      "Processing Record 16 of Set 1 | provideniya\n",
      "Processing Record 17 of Set 1 | luderitz\n",
      "Processing Record 18 of Set 1 | bredasdorp\n",
      "Processing Record 19 of Set 1 | ribeira grande\n",
      "Processing Record 20 of Set 1 | atuona\n",
      "Processing Record 21 of Set 1 | mahebourg\n",
      "Processing Record 22 of Set 1 | mahbubabad\n",
      "Processing Record 23 of Set 1 | belushya guba\n",
      "City not found. Skipping...\n",
      "Processing Record 24 of Set 1 | port alfred\n",
      "Processing Record 25 of Set 1 | sfantu gheorghe\n",
      "Processing Record 26 of Set 1 | punta arenas\n",
      "Processing Record 27 of Set 1 | siavonga\n",
      "Processing Record 28 of Set 1 | cape town\n",
      "Processing Record 29 of Set 1 | faanui\n",
      "Processing Record 30 of Set 1 | arraial do cabo\n",
      "Processing Record 31 of Set 1 | vaini\n",
      "Processing Record 32 of Set 1 | cherskiy\n",
      "Processing Record 33 of Set 1 | hilo\n",
      "Processing Record 34 of Set 1 | payakumbuh\n",
      "Processing Record 35 of Set 1 | tabuk\n",
      "Processing Record 36 of Set 1 | kapaa\n",
      "Processing Record 37 of Set 1 | hithadhoo\n",
      "Processing Record 38 of Set 1 | qaanaaq\n",
      "Processing Record 39 of Set 1 | hirara\n",
      "Processing Record 40 of Set 1 | vao\n",
      "Processing Record 41 of Set 1 | taolanaro\n",
      "City not found. Skipping...\n",
      "Processing Record 42 of Set 1 | notre-dame-du-lac\n",
      "Processing Record 43 of Set 1 | adrar\n",
      "Processing Record 44 of Set 1 | ancud\n",
      "Processing Record 45 of Set 1 | geraldton\n",
      "Processing Record 46 of Set 1 | port lincoln\n",
      "Processing Record 47 of Set 1 | illoqqortoormiut\n",
      "City not found. Skipping...\n",
      "Processing Record 48 of Set 1 | busselton\n",
      "Processing Record 49 of Set 1 | avera\n",
      "Processing Record 50 of Set 1 | lorengau\n",
      "Processing Record 0 of Set 2 | torbay\n",
      "Processing Record 1 of Set 2 | kankon\n",
      "Processing Record 2 of Set 2 | hobart\n",
      "Processing Record 3 of Set 2 | ahuimanu\n",
      "Processing Record 4 of Set 2 | santa vitoria do palmar\n",
      "Processing Record 5 of Set 2 | thompson\n",
      "Processing Record 6 of Set 2 | tolaga bay\n",
      "Processing Record 7 of Set 2 | samusu\n",
      "City not found. Skipping...\n",
      "Processing Record 8 of Set 2 | grindavik\n",
      "Processing Record 9 of Set 2 | yellowknife\n",
      "Processing Record 10 of Set 2 | avarua\n",
      "Processing Record 11 of Set 2 | bluff\n",
      "Processing Record 12 of Set 2 | chuy\n",
      "Processing Record 13 of Set 2 | hermanus\n",
      "Processing Record 14 of Set 2 | barrow\n",
      "Processing Record 15 of Set 2 | turukhansk\n",
      "Processing Record 16 of Set 2 | sentyabrskiy\n",
      "City not found. Skipping...\n",
      "Processing Record 17 of Set 2 | kudahuvadhoo\n",
      "Processing Record 18 of Set 2 | nizhneyansk\n",
      "City not found. Skipping...\n",
      "Processing Record 19 of Set 2 | sturgeon bay\n",
      "Processing Record 20 of Set 2 | norman wells\n",
      "Processing Record 21 of Set 2 | tevaitoa\n",
      "Processing Record 22 of Set 2 | axim\n",
      "Processing Record 23 of Set 2 | lebu\n",
      "Processing Record 24 of Set 2 | new norfolk\n",
      "Processing Record 25 of Set 2 | hamilton\n",
      "Processing Record 26 of Set 2 | georgetown\n",
      "Processing Record 27 of Set 2 | limbang\n",
      "Processing Record 28 of Set 2 | asau\n",
      "Processing Record 29 of Set 2 | bermejo\n",
      "Processing Record 30 of Set 2 | atherton\n",
      "Processing Record 31 of Set 2 | sitka\n",
      "Processing Record 32 of Set 2 | pemangkat\n",
      "Processing Record 33 of Set 2 | kavieng\n",
      "Processing Record 34 of Set 2 | palmer\n",
      "Processing Record 35 of Set 2 | tungkang\n",
      "City not found. Skipping...\n",
      "Processing Record 36 of Set 2 | lompoc\n",
      "Processing Record 37 of Set 2 | tuktoyaktuk\n",
      "Processing Record 38 of Set 2 | castro\n",
      "Processing Record 39 of Set 2 | tasiilaq\n",
      "Processing Record 40 of Set 2 | pozo colorado\n",
      "Processing Record 41 of Set 2 | upernavik\n",
      "Processing Record 42 of Set 2 | sorvag\n",
      "City not found. Skipping...\n",
      "Processing Record 43 of Set 2 | polis\n",
      "Processing Record 44 of Set 2 | kaitangata\n",
      "Processing Record 45 of Set 2 | dingle\n",
      "Processing Record 46 of Set 2 | kaka\n",
      "Processing Record 47 of Set 2 | kawalu\n",
      "Processing Record 48 of Set 2 | pimenta bueno\n",
      "Processing Record 49 of Set 2 | cedral\n",
      "Processing Record 0 of Set 3 | nakhon phanom\n",
      "Processing Record 1 of Set 3 | qaqortoq\n",
      "Processing Record 2 of Set 3 | roseburg\n",
      "Processing Record 3 of Set 3 | east london\n",
      "Processing Record 4 of Set 3 | san quintin\n",
      "Processing Record 5 of Set 3 | kachug\n",
      "Processing Record 6 of Set 3 | lagoa\n",
      "Processing Record 7 of Set 3 | mubende\n",
      "Processing Record 8 of Set 3 | saint-philippe\n",
      "Processing Record 9 of Set 3 | mackay\n",
      "Processing Record 10 of Set 3 | fukue\n",
      "Processing Record 11 of Set 3 | ponta do sol\n",
      "Processing Record 12 of Set 3 | buala\n",
      "Processing Record 13 of Set 3 | ucluelet\n",
      "Processing Record 14 of Set 3 | jining\n",
      "Processing Record 15 of Set 3 | portland\n",
      "Processing Record 16 of Set 3 | fredericton\n",
      "Processing Record 17 of Set 3 | tunduru\n",
      "City not found. Skipping...\n",
      "Processing Record 18 of Set 3 | butaritari\n",
      "Processing Record 19 of Set 3 | codrington\n",
      "Processing Record 20 of Set 3 | sept-iles\n",
      "Processing Record 21 of Set 3 | longyearbyen\n",
      "Processing Record 22 of Set 3 | tortoli\n",
      "Processing Record 23 of Set 3 | berlevag\n",
      "Processing Record 24 of Set 3 | pamanukan\n",
      "Processing Record 25 of Set 3 | severo-yeniseyskiy\n",
      "Processing Record 26 of Set 3 | champerico\n",
      "Processing Record 27 of Set 3 | camacha\n",
      "Processing Record 28 of Set 3 | meulaboh\n",
      "Processing Record 29 of Set 3 | severo-kurilsk\n",
      "Processing Record 30 of Set 3 | imbituba\n",
      "Processing Record 31 of Set 3 | hasaki\n",
      "Processing Record 32 of Set 3 | laguna\n",
      "Processing Record 33 of Set 3 | narsaq\n",
      "Processing Record 34 of Set 3 | cabo san lucas\n",
      "Processing Record 35 of Set 3 | khatanga\n",
      "Processing Record 36 of Set 3 | saskylakh\n",
      "Processing Record 37 of Set 3 | kruisfontein\n",
      "Processing Record 38 of Set 3 | puerto ayora\n",
      "Processing Record 39 of Set 3 | qasigiannguit\n",
      "Processing Record 40 of Set 3 | wulanhaote\n",
      "City not found. Skipping...\n",
      "Processing Record 41 of Set 3 | angren\n",
      "Processing Record 42 of Set 3 | katsuura\n",
      "Processing Record 43 of Set 3 | otane\n",
      "Processing Record 44 of Set 3 | mount isa\n",
      "Processing Record 45 of Set 3 | pacific grove\n",
      "Processing Record 46 of Set 3 | gushikawa\n",
      "Processing Record 47 of Set 3 | brewster\n",
      "Processing Record 48 of Set 3 | namibe\n",
      "Processing Record 49 of Set 3 | samarai\n",
      "Processing Record 0 of Set 4 | shitanjing\n",
      "Processing Record 1 of Set 4 | aqtobe\n",
      "Processing Record 2 of Set 4 | kaeo\n",
      "Processing Record 3 of Set 4 | souillac\n",
      "Processing Record 4 of Set 4 | louisbourg\n",
      "City not found. Skipping...\n",
      "Processing Record 5 of Set 4 | dikson\n",
      "Processing Record 6 of Set 4 | salalah\n",
      "Processing Record 7 of Set 4 | korla\n",
      "Processing Record 8 of Set 4 | mar del plata\n",
      "Processing Record 9 of Set 4 | bambous virieux\n",
      "Processing Record 10 of Set 4 | leningradskiy\n",
      "Processing Record 11 of Set 4 | fortuna\n",
      "Processing Record 12 of Set 4 | vilya\n",
      "Processing Record 13 of Set 4 | kadykchan\n",
      "City not found. Skipping...\n",
      "Processing Record 14 of Set 4 | beloha\n",
      "Processing Record 15 of Set 4 | pevek\n",
      "Processing Record 16 of Set 4 | san cristobal\n",
      "Processing Record 17 of Set 4 | kavaratti\n",
      "Processing Record 18 of Set 4 | kenai\n",
      "Processing Record 19 of Set 4 | karkaralinsk\n",
      "City not found. Skipping...\n",
      "Processing Record 20 of Set 4 | takoradi\n",
      "Processing Record 21 of Set 4 | zomin\n",
      "Processing Record 22 of Set 4 | carbonia\n",
      "Processing Record 23 of Set 4 | santiago de cuba\n",
      "Processing Record 24 of Set 4 | pontian kecil\n",
      "Processing Record 25 of Set 4 | tumannyy\n",
      "City not found. Skipping...\n",
      "Processing Record 26 of Set 4 | kirakira\n",
      "Processing Record 27 of Set 4 | zapolyarnyy\n",
      "Processing Record 28 of Set 4 | jaguaribe\n",
      "Processing Record 29 of Set 4 | saint-pierre\n",
      "Processing Record 30 of Set 4 | hambantota\n",
      "Processing Record 31 of Set 4 | maracas\n",
      "Processing Record 32 of Set 4 | kaina\n",
      "Processing Record 33 of Set 4 | tuatapere\n",
      "Processing Record 34 of Set 4 | bayanday\n",
      "Processing Record 35 of Set 4 | tsihombe\n",
      "City not found. Skipping...\n",
      "Processing Record 36 of Set 4 | bereda\n"
     ]
    },
    {
     "name": "stdout",
     "output_type": "stream",
     "text": [
      "Processing Record 37 of Set 4 | karasburg\n",
      "Processing Record 38 of Set 4 | saint george\n",
      "Processing Record 39 of Set 4 | khandyga\n",
      "Processing Record 40 of Set 4 | kurilsk\n",
      "Processing Record 41 of Set 4 | medeiros neto\n",
      "Processing Record 42 of Set 4 | carnarvon\n",
      "Processing Record 43 of Set 4 | kikwit\n",
      "Processing Record 44 of Set 4 | tiksi\n",
      "Processing Record 45 of Set 4 | riyadh\n",
      "Processing Record 46 of Set 4 | kodiak\n",
      "Processing Record 47 of Set 4 | talnakh\n",
      "Processing Record 48 of Set 4 | barentsburg\n",
      "City not found. Skipping...\n",
      "Processing Record 49 of Set 4 | sao joao da barra\n",
      "Processing Record 0 of Set 5 | santa rosa\n",
      "Processing Record 1 of Set 5 | santa ines\n",
      "Processing Record 2 of Set 5 | goure\n",
      "Processing Record 3 of Set 5 | sakakah\n",
      "Processing Record 4 of Set 5 | teya\n",
      "Processing Record 5 of Set 5 | sedelnikovo\n",
      "City not found. Skipping...\n",
      "Processing Record 6 of Set 5 | san jeronimo\n",
      "Processing Record 7 of Set 5 | nantucket\n",
      "Processing Record 8 of Set 5 | sibolga\n",
      "Processing Record 9 of Set 5 | pringsewu\n",
      "Processing Record 10 of Set 5 | goderich\n",
      "Processing Record 11 of Set 5 | la palma\n",
      "Processing Record 12 of Set 5 | victoria\n",
      "Processing Record 13 of Set 5 | airai\n",
      "Processing Record 14 of Set 5 | naze\n",
      "Processing Record 15 of Set 5 | mys shmidta\n",
      "City not found. Skipping...\n",
      "Processing Record 16 of Set 5 | majene\n",
      "Processing Record 17 of Set 5 | padang\n",
      "Processing Record 18 of Set 5 | concordia sagittaria\n",
      "Processing Record 19 of Set 5 | ferai\n",
      "City not found. Skipping...\n",
      "Processing Record 20 of Set 5 | alice springs\n",
      "Processing Record 21 of Set 5 | turayf\n",
      "Processing Record 22 of Set 5 | karratha\n",
      "Processing Record 23 of Set 5 | vanimo\n",
      "Processing Record 24 of Set 5 | andenes\n",
      "Processing Record 25 of Set 5 | marcona\n",
      "City not found. Skipping...\n",
      "Processing Record 26 of Set 5 | iracoubo\n",
      "Processing Record 27 of Set 5 | bacolod\n",
      "Processing Record 28 of Set 5 | tezu\n",
      "Processing Record 29 of Set 5 | luau\n",
      "Processing Record 30 of Set 5 | gao\n",
      "Processing Record 31 of Set 5 | mayumba\n",
      "Processing Record 32 of Set 5 | nikolskoye\n",
      "Processing Record 33 of Set 5 | asfi\n",
      "Processing Record 34 of Set 5 | umzimvubu\n",
      "City not found. Skipping...\n",
      "Processing Record 35 of Set 5 | vila\n",
      "Processing Record 36 of Set 5 | dolbeau\n",
      "City not found. Skipping...\n",
      "Processing Record 37 of Set 5 | zhanakorgan\n",
      "Processing Record 38 of Set 5 | ravar\n",
      "Processing Record 39 of Set 5 | pisco\n",
      "Processing Record 40 of Set 5 | nome\n",
      "Processing Record 41 of Set 5 | chicama\n",
      "Processing Record 42 of Set 5 | abha\n",
      "Processing Record 43 of Set 5 | ahipara\n",
      "Processing Record 44 of Set 5 | hailar\n",
      "Processing Record 45 of Set 5 | baykit\n",
      "Processing Record 46 of Set 5 | nanyamba\n",
      "Processing Record 47 of Set 5 | umm lajj\n",
      "Processing Record 48 of Set 5 | nago\n",
      "Processing Record 49 of Set 5 | la rioja\n",
      "Processing Record 0 of Set 6 | elizabeth city\n",
      "Processing Record 1 of Set 6 | los llanos de aridane\n",
      "Processing Record 2 of Set 6 | mareeba\n",
      "Processing Record 3 of Set 6 | fremont\n",
      "Processing Record 4 of Set 6 | strangnas\n",
      "Processing Record 5 of Set 6 | wanning\n",
      "Processing Record 6 of Set 6 | vardo\n",
      "Processing Record 7 of Set 6 | lushoto\n",
      "Processing Record 8 of Set 6 | bay city\n",
      "Processing Record 9 of Set 6 | cidreira\n",
      "Processing Record 10 of Set 6 | bengkulu\n",
      "Processing Record 11 of Set 6 | misratah\n",
      "Processing Record 12 of Set 6 | dawson creek\n",
      "Processing Record 13 of Set 6 | huarmey\n",
      "Processing Record 14 of Set 6 | labutta\n",
      "City not found. Skipping...\n",
      "Processing Record 15 of Set 6 | vila velha\n",
      "Processing Record 16 of Set 6 | allapalli\n",
      "Processing Record 17 of Set 6 | ugoofaaru\n",
      "Processing Record 18 of Set 6 | oksfjord\n",
      "Processing Record 19 of Set 6 | isangel\n",
      "Processing Record 20 of Set 6 | villa altagracia\n",
      "Processing Record 21 of Set 6 | burica\n",
      "City not found. Skipping...\n",
      "Processing Record 22 of Set 6 | te anau\n",
      "Processing Record 23 of Set 6 | bilibino\n",
      "Processing Record 24 of Set 6 | port elizabeth\n",
      "Processing Record 25 of Set 6 | fort frances\n",
      "Processing Record 26 of Set 6 | yankton\n",
      "Processing Record 27 of Set 6 | yar-sale\n",
      "Processing Record 28 of Set 6 | morros\n",
      "Processing Record 29 of Set 6 | constitucion\n",
      "Processing Record 30 of Set 6 | warrington\n",
      "Processing Record 31 of Set 6 | winneba\n",
      "Processing Record 32 of Set 6 | touros\n",
      "Processing Record 33 of Set 6 | guerrero negro\n",
      "Processing Record 34 of Set 6 | boyolangu\n",
      "Processing Record 35 of Set 6 | bardiyah\n",
      "Processing Record 36 of Set 6 | marrakesh\n",
      "Processing Record 37 of Set 6 | krasnoselkup\n",
      "Processing Record 38 of Set 6 | san-pedro\n",
      "Processing Record 39 of Set 6 | kailahun\n",
      "Processing Record 40 of Set 6 | charters towers\n",
      "Processing Record 41 of Set 6 | hami\n",
      "Processing Record 42 of Set 6 | dudinka\n",
      "Processing Record 43 of Set 6 | mendi\n",
      "Processing Record 44 of Set 6 | egvekinot\n",
      "Processing Record 45 of Set 6 | kroya\n",
      "Processing Record 46 of Set 6 | sao filipe\n",
      "Processing Record 47 of Set 6 | xichang\n",
      "Processing Record 48 of Set 6 | barawe\n",
      "City not found. Skipping...\n",
      "Processing Record 49 of Set 6 | muros\n",
      "Processing Record 0 of Set 7 | lashio\n",
      "Processing Record 1 of Set 7 | tha mai\n",
      "Processing Record 2 of Set 7 | talcahuano\n",
      "Processing Record 3 of Set 7 | tarauaca\n",
      "Processing Record 4 of Set 7 | itarema\n",
      "Processing Record 5 of Set 7 | buon me thuot\n",
      "City not found. Skipping...\n",
      "Processing Record 6 of Set 7 | manuk mangkaw\n",
      "Processing Record 7 of Set 7 | kitui\n",
      "Processing Record 8 of Set 7 | zhongshu\n",
      "Processing Record 9 of Set 7 | hualmay\n",
      "Processing Record 10 of Set 7 | pimentel\n",
      "Processing Record 11 of Set 7 | bheramara\n",
      "Processing Record 12 of Set 7 | salisbury\n",
      "Processing Record 13 of Set 7 | baikunthpur\n",
      "Processing Record 14 of Set 7 | nouadhibou\n",
      "Processing Record 15 of Set 7 | hammerfest\n",
      "Processing Record 16 of Set 7 | kazalinsk\n",
      "City not found. Skipping...\n",
      "Processing Record 17 of Set 7 | panaba\n",
      "Processing Record 18 of Set 7 | batagay\n",
      "Processing Record 19 of Set 7 | indramayu\n",
      "Processing Record 20 of Set 7 | iqaluit\n",
      "Processing Record 21 of Set 7 | tiznit\n",
      "Processing Record 22 of Set 7 | cacapava do sul\n",
      "Processing Record 23 of Set 7 | kununurra\n",
      "Processing Record 24 of Set 7 | cutervo\n",
      "Processing Record 25 of Set 7 | hokitika\n",
      "Processing Record 26 of Set 7 | nabire\n",
      "Processing Record 27 of Set 7 | fallon\n",
      "Processing Record 28 of Set 7 | san luis\n",
      "Processing Record 29 of Set 7 | chilca\n",
      "Processing Record 30 of Set 7 | viedma\n",
      "Processing Record 31 of Set 7 | hellvik\n",
      "Processing Record 32 of Set 7 | raga\n",
      "Processing Record 33 of Set 7 | limulunga\n",
      "Processing Record 34 of Set 7 | granada\n",
      "Processing Record 35 of Set 7 | newport\n",
      "Processing Record 36 of Set 7 | esperance\n",
      "Processing Record 37 of Set 7 | broome\n",
      "Processing Record 38 of Set 7 | comodoro rivadavia\n",
      "Processing Record 39 of Set 7 | palabuhanratu\n",
      "City not found. Skipping...\n",
      "Processing Record 40 of Set 7 | durban\n",
      "Processing Record 41 of Set 7 | birjand\n",
      "Processing Record 42 of Set 7 | bhawanipatna\n",
      "Processing Record 43 of Set 7 | lac-megantic\n",
      "Processing Record 44 of Set 7 | banda aceh\n",
      "Processing Record 45 of Set 7 | gouyave\n",
      "Processing Record 46 of Set 7 | dali\n",
      "Processing Record 47 of Set 7 | faya\n",
      "Processing Record 48 of Set 7 | mullaitivu\n",
      "City not found. Skipping...\n",
      "Processing Record 49 of Set 7 | tsiroanomandidy\n",
      "Processing Record 0 of Set 8 | amparafaravola\n",
      "Processing Record 1 of Set 8 | lakatoro\n",
      "Processing Record 2 of Set 8 | kattivakkam\n",
      "Processing Record 3 of Set 8 | mana\n",
      "Processing Record 4 of Set 8 | arman\n",
      "Processing Record 5 of Set 8 | attawapiskat\n",
      "City not found. Skipping...\n",
      "Processing Record 6 of Set 8 | olenegorsk\n",
      "Processing Record 7 of Set 8 | jiexiu\n",
      "Processing Record 8 of Set 8 | sinnamary\n",
      "Processing Record 9 of Set 8 | weligama\n",
      "Processing Record 10 of Set 8 | farias brito\n",
      "Processing Record 11 of Set 8 | javanrud\n",
      "Processing Record 12 of Set 8 | amga\n",
      "Processing Record 13 of Set 8 | rapid valley\n",
      "Processing Record 14 of Set 8 | roma\n",
      "Processing Record 15 of Set 8 | port-gentil\n",
      "Processing Record 16 of Set 8 | lavrentiya\n",
      "Processing Record 17 of Set 8 | teguise\n",
      "Processing Record 18 of Set 8 | gat\n",
      "Processing Record 19 of Set 8 | whitehorse\n",
      "Processing Record 20 of Set 8 | berekum\n",
      "Processing Record 21 of Set 8 | grand river south east\n",
      "City not found. Skipping...\n",
      "Processing Record 22 of Set 8 | basco\n",
      "Processing Record 23 of Set 8 | beringovskiy\n",
      "Processing Record 24 of Set 8 | acatlan\n",
      "Processing Record 25 of Set 8 | mihijam\n"
     ]
    },
    {
     "name": "stdout",
     "output_type": "stream",
     "text": [
      "Processing Record 26 of Set 8 | tromso\n",
      "Processing Record 27 of Set 8 | muzquiz\n",
      "City not found. Skipping...\n",
      "Processing Record 28 of Set 8 | pangnirtung\n",
      "Processing Record 29 of Set 8 | nishihara\n",
      "Processing Record 30 of Set 8 | kommunar\n",
      "Processing Record 31 of Set 8 | amderma\n",
      "City not found. Skipping...\n",
      "Processing Record 32 of Set 8 | itupiranga\n",
      "Processing Record 33 of Set 8 | karauzyak\n",
      "City not found. Skipping...\n",
      "Processing Record 34 of Set 8 | cibitoke\n",
      "Processing Record 35 of Set 8 | senno\n",
      "Processing Record 36 of Set 8 | presidencia roque saenz pena\n",
      "Processing Record 37 of Set 8 | rawlins\n",
      "Processing Record 38 of Set 8 | tommot\n",
      "Processing Record 39 of Set 8 | petropavlovskoye\n",
      "Processing Record 40 of Set 8 | talawdi\n",
      "City not found. Skipping...\n",
      "Processing Record 41 of Set 8 | khonuu\n",
      "City not found. Skipping...\n",
      "Processing Record 42 of Set 8 | lata\n",
      "Processing Record 43 of Set 8 | merritt\n",
      "Processing Record 44 of Set 8 | tramandai\n",
      "Processing Record 45 of Set 8 | la quinta\n",
      "Processing Record 46 of Set 8 | terrace bay\n",
      "Processing Record 47 of Set 8 | vung tau\n",
      "Processing Record 48 of Set 8 | raton\n",
      "Processing Record 49 of Set 8 | darnah\n",
      "Processing Record 0 of Set 9 | haines junction\n",
      "Processing Record 1 of Set 9 | basar\n",
      "Processing Record 2 of Set 9 | cacu\n",
      "Processing Record 3 of Set 9 | kiunga\n",
      "Processing Record 4 of Set 9 | areosa\n",
      "Processing Record 5 of Set 9 | chabahar\n",
      "Processing Record 6 of Set 9 | klaksvik\n",
      "Processing Record 7 of Set 9 | bethel\n",
      "Processing Record 8 of Set 9 | mildura\n",
      "Processing Record 9 of Set 9 | yatou\n",
      "Processing Record 10 of Set 9 | daxian\n",
      "City not found. Skipping...\n",
      "Processing Record 11 of Set 9 | cerro largo\n",
      "Processing Record 12 of Set 9 | yulara\n",
      "Processing Record 13 of Set 9 | sarkand\n",
      "Processing Record 14 of Set 9 | ejura\n",
      "Processing Record 15 of Set 9 | russell\n",
      "Processing Record 16 of Set 9 | tungor\n",
      "Processing Record 17 of Set 9 | micheweni\n",
      "Processing Record 18 of Set 9 | zalantun\n",
      "Processing Record 19 of Set 9 | williams lake\n",
      "Processing Record 20 of Set 9 | shingu\n",
      "Processing Record 21 of Set 9 | alofi\n",
      "Processing Record 22 of Set 9 | iringa\n",
      "Processing Record 23 of Set 9 | skibbereen\n",
      "Processing Record 24 of Set 9 | quang ngai\n",
      "Processing Record 25 of Set 9 | iguape\n",
      "Processing Record 26 of Set 9 | dunedin\n",
      "Processing Record 27 of Set 9 | taoudenni\n",
      "Processing Record 28 of Set 9 | husavik\n",
      "Processing Record 29 of Set 9 | abramovka\n",
      "Processing Record 30 of Set 9 | port blair\n",
      "Processing Record 31 of Set 9 | tigil\n",
      "Processing Record 32 of Set 9 | jaque\n",
      "Processing Record 33 of Set 9 | valparaiso\n",
      "Processing Record 34 of Set 9 | bulgan\n",
      "Processing Record 35 of Set 9 | marsabit\n",
      "Processing Record 36 of Set 9 | pitimbu\n",
      "Processing Record 37 of Set 9 | ustrzyki dolne\n",
      "Processing Record 38 of Set 9 | port hedland\n",
      "Processing Record 39 of Set 9 | kumo\n",
      "Processing Record 40 of Set 9 | ketchikan\n",
      "Processing Record 41 of Set 9 | kuito\n",
      "Processing Record 42 of Set 9 | fairbanks\n",
      "Processing Record 43 of Set 9 | gavle\n",
      "Processing Record 44 of Set 9 | didsbury\n",
      "Processing Record 45 of Set 9 | irmo\n",
      "Processing Record 46 of Set 9 | oriximina\n",
      "Processing Record 47 of Set 9 | northam\n",
      "Processing Record 48 of Set 9 | pakxan\n",
      "Processing Record 49 of Set 9 | joutseno\n",
      "Processing Record 0 of Set 10 | xacmaz\n",
      "Processing Record 1 of Set 10 | anloga\n",
      "Processing Record 2 of Set 10 | sorland\n",
      "Processing Record 3 of Set 10 | la ronge\n",
      "Processing Record 4 of Set 10 | havre-saint-pierre\n",
      "Processing Record 5 of Set 10 | oranjemund\n",
      "Processing Record 6 of Set 10 | labuhan\n",
      "Processing Record 7 of Set 10 | shizukuishi\n",
      "Processing Record 8 of Set 10 | san patricio\n",
      "Processing Record 9 of Set 10 | hunterville\n",
      "Processing Record 10 of Set 10 | umm jarr\n",
      "City not found. Skipping...\n",
      "Processing Record 11 of Set 10 | dakar\n",
      "Processing Record 12 of Set 10 | osoyoos\n",
      "Processing Record 13 of Set 10 | yangjiang\n",
      "Processing Record 14 of Set 10 | smithers\n",
      "Processing Record 15 of Set 10 | san rafael\n",
      "Processing Record 16 of Set 10 | saint anthony\n",
      "Processing Record 17 of Set 10 | lloret de mar\n",
      "Processing Record 18 of Set 10 | san rafael del sur\n",
      "Processing Record 19 of Set 10 | maltahohe\n",
      "Processing Record 20 of Set 10 | marihatag\n",
      "Processing Record 21 of Set 10 | okakarara\n",
      "Processing Record 22 of Set 10 | port hardy\n",
      "Processing Record 23 of Set 10 | kaunas\n",
      "Processing Record 24 of Set 10 | mama\n",
      "Processing Record 25 of Set 10 | sangar\n",
      "Processing Record 26 of Set 10 | thano bula khan\n",
      "City not found. Skipping...\n",
      "Processing Record 27 of Set 10 | brattleboro\n",
      "Processing Record 28 of Set 10 | mayo\n",
      "Processing Record 29 of Set 10 | marystown\n",
      "Processing Record 30 of Set 10 | ortona\n",
      "Processing Record 31 of Set 10 | tombouctou\n",
      "Processing Record 32 of Set 10 | saint-augustin\n",
      "Processing Record 33 of Set 10 | cap malheureux\n",
      "Processing Record 34 of Set 10 | san javier\n",
      "Processing Record 35 of Set 10 | constantine\n",
      "Processing Record 36 of Set 10 | clyde river\n",
      "Processing Record 37 of Set 10 | ignatovka\n",
      "Processing Record 38 of Set 10 | itaituba\n",
      "Processing Record 39 of Set 10 | ocumare del tuy\n",
      "Processing Record 40 of Set 10 | palu\n",
      "Processing Record 41 of Set 10 | hovd\n",
      "Processing Record 42 of Set 10 | maple creek\n",
      "Processing Record 43 of Set 10 | smolenka\n",
      "Processing Record 44 of Set 10 | shelburne\n",
      "Processing Record 45 of Set 10 | grand-santi\n",
      "Processing Record 46 of Set 10 | rio gallegos\n",
      "Processing Record 47 of Set 10 | muzhi\n",
      "Processing Record 48 of Set 10 | namatanai\n",
      "Processing Record 49 of Set 10 | vestmannaeyjar\n",
      "Processing Record 0 of Set 11 | nemuro\n",
      "Processing Record 1 of Set 11 | soyo\n",
      "Processing Record 2 of Set 11 | escanaba\n",
      "Processing Record 3 of Set 11 | khash\n",
      "Processing Record 4 of Set 11 | amapa\n",
      "Processing Record 5 of Set 11 | pahuatlan\n",
      "City not found. Skipping...\n",
      "Processing Record 6 of Set 11 | vega de alatorre\n",
      "Processing Record 7 of Set 11 | richards bay\n",
      "Processing Record 8 of Set 11 | zeya\n",
      "Processing Record 9 of Set 11 | maumere\n",
      "Processing Record 10 of Set 11 | deputatskiy\n",
      "Processing Record 11 of Set 11 | mastic beach\n",
      "Processing Record 12 of Set 11 | alotau\n",
      "City not found. Skipping...\n",
      "Processing Record 13 of Set 11 | chioggia\n",
      "Processing Record 14 of Set 11 | aykhal\n",
      "Processing Record 15 of Set 11 | lebowakgomo\n",
      "Processing Record 16 of Set 11 | xiongyue\n",
      "Processing Record 17 of Set 11 | komsomolskiy\n",
      "Processing Record 18 of Set 11 | verkhnevilyuysk\n",
      "Processing Record 19 of Set 11 | ardabil\n",
      "Processing Record 20 of Set 11 | cayenne\n",
      "Processing Record 21 of Set 11 | mehamn\n",
      "Processing Record 22 of Set 11 | chimbarongo\n",
      "Processing Record 23 of Set 11 | salamanca\n",
      "Processing Record 24 of Set 11 | gizo\n",
      "Processing Record 25 of Set 11 | safita\n",
      "Processing Record 26 of Set 11 | katherine\n",
      "Processing Record 27 of Set 11 | felidhoo\n",
      "City not found. Skipping...\n",
      "Processing Record 28 of Set 11 | nouakchott\n",
      "Processing Record 29 of Set 11 | road town\n",
      "Processing Record 30 of Set 11 | puerto del rosario\n",
      "Processing Record 31 of Set 11 | phan thiet\n",
      "Processing Record 32 of Set 11 | dzhusaly\n",
      "City not found. Skipping...\n",
      "Processing Record 33 of Set 11 | hobyo\n",
      "Processing Record 34 of Set 11 | ijaki\n",
      "City not found. Skipping...\n",
      "Processing Record 35 of Set 11 | kamien pomorski\n",
      "Processing Record 36 of Set 11 | nelson bay\n",
      "Processing Record 37 of Set 11 | atambua\n",
      "Processing Record 38 of Set 11 | medveda\n",
      "Processing Record 39 of Set 11 | tabou\n",
      "Processing Record 40 of Set 11 | mezotur\n",
      "Processing Record 41 of Set 11 | samalaeulu\n",
      "City not found. Skipping...\n",
      "Processing Record 42 of Set 11 | bulawayo\n",
      "Processing Record 43 of Set 11 | greymouth\n",
      "Processing Record 44 of Set 11 | sapa\n",
      "Processing Record 45 of Set 11 | mandalgovi\n",
      "Processing Record 46 of Set 11 | gasa\n",
      "Processing Record 47 of Set 11 | vaitupu\n",
      "City not found. Skipping...\n",
      "Processing Record 48 of Set 11 | puerto colombia\n",
      "Processing Record 49 of Set 11 | ushtobe\n",
      "Processing Record 0 of Set 12 | angoche\n",
      "Processing Record 1 of Set 12 | tecoanapa\n",
      "Processing Record 2 of Set 12 | warqla\n",
      "City not found. Skipping...\n",
      "Processing Record 3 of Set 12 | mount gambier\n",
      "Processing Record 4 of Set 12 | canchungo\n",
      "Processing Record 5 of Set 12 | nauta\n",
      "Processing Record 6 of Set 12 | tabiauea\n",
      "City not found. Skipping...\n",
      "Processing Record 7 of Set 12 | ruatoria\n",
      "City not found. Skipping...\n",
      "Processing Record 8 of Set 12 | ginda\n",
      "Processing Record 9 of Set 12 | thinadhoo\n"
     ]
    },
    {
     "name": "stdout",
     "output_type": "stream",
     "text": [
      "Processing Record 10 of Set 12 | olafsvik\n",
      "Processing Record 11 of Set 12 | nanortalik\n",
      "Processing Record 12 of Set 12 | beyneu\n",
      "Processing Record 13 of Set 12 | saldanha\n",
      "Processing Record 14 of Set 12 | maldonado\n",
      "Processing Record 15 of Set 12 | labrea\n",
      "Processing Record 16 of Set 12 | moranbah\n",
      "Processing Record 17 of Set 12 | mogochin\n",
      "City not found. Skipping...\n",
      "Processing Record 18 of Set 12 | springfield\n",
      "Processing Record 19 of Set 12 | douentza\n",
      "Processing Record 20 of Set 12 | tucupita\n",
      "Processing Record 21 of Set 12 | ambon\n",
      "Processing Record 22 of Set 12 | awjilah\n",
      "Processing Record 23 of Set 12 | doka\n",
      "Processing Record 24 of Set 12 | port moresby\n",
      "Processing Record 25 of Set 12 | grand gaube\n",
      "Processing Record 26 of Set 12 | san juan\n",
      "Processing Record 27 of Set 12 | nautla\n",
      "Processing Record 28 of Set 12 | maua\n",
      "Processing Record 29 of Set 12 | benin\n",
      "Processing Record 30 of Set 12 | walvis bay\n",
      "Processing Record 31 of Set 12 | jvari\n",
      "Processing Record 32 of Set 12 | barmer\n",
      "Processing Record 33 of Set 12 | kotaparh\n",
      "Processing Record 34 of Set 12 | lasa\n",
      "Processing Record 35 of Set 12 | lingao\n",
      "Processing Record 36 of Set 12 | paamiut\n",
      "Processing Record 37 of Set 12 | abiy adi\n",
      "City not found. Skipping...\n",
      "Processing Record 38 of Set 12 | ranipur\n",
      "Processing Record 39 of Set 12 | port jervis\n",
      "Processing Record 40 of Set 12 | halifax\n",
      "Processing Record 41 of Set 12 | kloulklubed\n",
      "Processing Record 42 of Set 12 | vagur\n",
      "Processing Record 43 of Set 12 | barbar\n",
      "City not found. Skipping...\n",
      "Processing Record 44 of Set 12 | salinopolis\n",
      "Processing Record 45 of Set 12 | acajutla\n",
      "Processing Record 46 of Set 12 | arusha\n",
      "Processing Record 47 of Set 12 | ulety\n",
      "Processing Record 48 of Set 12 | bemidji\n",
      "Processing Record 49 of Set 12 | college\n",
      "-----------------------------\n",
      "Data Retrieval Complete      \n",
      "-----------------------------\n"
     ]
    }
   ],
   "source": [
    "# Set the API base URL\n",
    "url = \"http://api.openweathermap.org/data/2.5/weather?\"\n",
    "units = \"metric\"\n",
    "query_url = f\"{url}appid={weather_api_key}&units={units}&q=\"\n",
    "\n",
    "# Define an empty list to fetch the weather data for each city\n",
    "city_data = []\n",
    "\n",
    "# Print to logger\n",
    "print(\"Beginning Data Retrieval     \")\n",
    "print(\"-----------------------------\")\n",
    "\n",
    "# Create counters\n",
    "record_count = 1\n",
    "set_count = 1\n",
    "\n",
    "# Loop through all the cities in our list to fetch weather data\n",
    "for i, city in enumerate(cities):\n",
    "        \n",
    "    # Group cities in sets of 50 for logging purposes\n",
    "    if (i % 50 == 0 and i >= 50):\n",
    "        set_count += 1\n",
    "        record_count = 0\n",
    "\n",
    "    # Create endpoint URL with each city\n",
    "    city_url = query_url + city\n",
    "    \n",
    "    # Log the url, record, and set numbers\n",
    "    print(\"Processing Record %s of Set %s | %s\" % (record_count, set_count, city))\n",
    "\n",
    "    # Add 1 to the record count\n",
    "    record_count += 1\n",
    "\n",
    "    # Run an API request for each of the cities\n",
    "    \n",
    "    try:\n",
    "        # Parse the JSON and retrieve data\n",
    "        city_weather = requests.get(city_url).json()\n",
    "\n",
    "        # Parse out latitude, longitude, max temp, humidity, cloudiness, wind speed, country, and date\n",
    "        city_lat = city_weather[\"coord\"][\"lat\"]\n",
    "        city_lng = city_weather[\"coord\"][\"lon\"]\n",
    "        city_max_temp = city_weather[\"main\"][\"temp_max\"]\n",
    "        city_humidity = city_weather[\"main\"][\"humidity\"]\n",
    "        city_clouds = city_weather[\"clouds\"][\"all\"]\n",
    "        city_wind = city_weather[\"wind\"][\"speed\"]\n",
    "        city_country = city_weather[\"sys\"][\"country\"]\n",
    "        city_date = city_weather[\"dt\"]\n",
    "\n",
    "        # Append the City information into city_data list\n",
    "        city_data.append({\"City\": city, \n",
    "                          \"Lat\": city_lat, \n",
    "                          \"Lng\": city_lng, \n",
    "                          \"Max Temp\": city_max_temp,\n",
    "                          \"Humidity\": city_humidity,\n",
    "                          \"Cloudiness\": city_clouds,\n",
    "                          \"Wind Speed\": city_wind,\n",
    "                          \"Country\": city_country,\n",
    "                          \"Date\": city_date})\n",
    "\n",
    "    # If an error is experienced, skip the city\n",
    "    except:\n",
    "        print(\"City not found. Skipping...\")\n",
    "        pass\n",
    "              \n",
    "# Indicate that Data Loading is complete \n",
    "print(\"-----------------------------\")\n",
    "print(\"Data Retrieval Complete      \")\n",
    "print(\"-----------------------------\")"
   ]
  },
  {
   "cell_type": "code",
   "execution_count": 15,
   "metadata": {},
   "outputs": [
    {
     "data": {
      "text/plain": [
       "City          547\n",
       "Lat           547\n",
       "Lng           547\n",
       "Max Temp      547\n",
       "Humidity      547\n",
       "Cloudiness    547\n",
       "Wind Speed    547\n",
       "Country       547\n",
       "Date          547\n",
       "dtype: int64"
      ]
     },
     "execution_count": 15,
     "metadata": {},
     "output_type": "execute_result"
    }
   ],
   "source": [
    "# Convert the cities weather data into a Pandas DataFrame\n",
    "city_data_df = pd.DataFrame(city_data)\n",
    "\n",
    "# Show Record Count\n",
    "city_data_df.count()"
   ]
  },
  {
   "cell_type": "code",
   "execution_count": 16,
   "metadata": {},
   "outputs": [
    {
     "data": {
      "text/html": [
       "<div>\n",
       "<style scoped>\n",
       "    .dataframe tbody tr th:only-of-type {\n",
       "        vertical-align: middle;\n",
       "    }\n",
       "\n",
       "    .dataframe tbody tr th {\n",
       "        vertical-align: top;\n",
       "    }\n",
       "\n",
       "    .dataframe thead th {\n",
       "        text-align: right;\n",
       "    }\n",
       "</style>\n",
       "<table border=\"1\" class=\"dataframe\">\n",
       "  <thead>\n",
       "    <tr style=\"text-align: right;\">\n",
       "      <th></th>\n",
       "      <th>City</th>\n",
       "      <th>Lat</th>\n",
       "      <th>Lng</th>\n",
       "      <th>Max Temp</th>\n",
       "      <th>Humidity</th>\n",
       "      <th>Cloudiness</th>\n",
       "      <th>Wind Speed</th>\n",
       "      <th>Country</th>\n",
       "      <th>Date</th>\n",
       "    </tr>\n",
       "  </thead>\n",
       "  <tbody>\n",
       "    <tr>\n",
       "      <th>0</th>\n",
       "      <td>rikitea</td>\n",
       "      <td>-23.1203</td>\n",
       "      <td>-134.9692</td>\n",
       "      <td>23.34</td>\n",
       "      <td>83</td>\n",
       "      <td>100</td>\n",
       "      <td>2.63</td>\n",
       "      <td>PF</td>\n",
       "      <td>1668135535</td>\n",
       "    </tr>\n",
       "    <tr>\n",
       "      <th>1</th>\n",
       "      <td>huntingdon</td>\n",
       "      <td>52.3305</td>\n",
       "      <td>-0.1865</td>\n",
       "      <td>15.52</td>\n",
       "      <td>79</td>\n",
       "      <td>99</td>\n",
       "      <td>3.58</td>\n",
       "      <td>GB</td>\n",
       "      <td>1668135535</td>\n",
       "    </tr>\n",
       "    <tr>\n",
       "      <th>2</th>\n",
       "      <td>jamestown</td>\n",
       "      <td>42.0970</td>\n",
       "      <td>-79.2353</td>\n",
       "      <td>16.77</td>\n",
       "      <td>50</td>\n",
       "      <td>0</td>\n",
       "      <td>4.63</td>\n",
       "      <td>US</td>\n",
       "      <td>1668135145</td>\n",
       "    </tr>\n",
       "    <tr>\n",
       "      <th>3</th>\n",
       "      <td>bandraboua</td>\n",
       "      <td>-12.7044</td>\n",
       "      <td>45.1223</td>\n",
       "      <td>25.82</td>\n",
       "      <td>78</td>\n",
       "      <td>10</td>\n",
       "      <td>4.13</td>\n",
       "      <td>YT</td>\n",
       "      <td>1668135536</td>\n",
       "    </tr>\n",
       "    <tr>\n",
       "      <th>4</th>\n",
       "      <td>ulladulla</td>\n",
       "      <td>-35.3500</td>\n",
       "      <td>150.4667</td>\n",
       "      <td>20.49</td>\n",
       "      <td>69</td>\n",
       "      <td>100</td>\n",
       "      <td>2.54</td>\n",
       "      <td>AU</td>\n",
       "      <td>1668135536</td>\n",
       "    </tr>\n",
       "  </tbody>\n",
       "</table>\n",
       "</div>"
      ],
      "text/plain": [
       "         City      Lat       Lng  Max Temp  Humidity  Cloudiness  Wind Speed  \\\n",
       "0     rikitea -23.1203 -134.9692     23.34        83         100        2.63   \n",
       "1  huntingdon  52.3305   -0.1865     15.52        79          99        3.58   \n",
       "2   jamestown  42.0970  -79.2353     16.77        50           0        4.63   \n",
       "3  bandraboua -12.7044   45.1223     25.82        78          10        4.13   \n",
       "4   ulladulla -35.3500  150.4667     20.49        69         100        2.54   \n",
       "\n",
       "  Country        Date  \n",
       "0      PF  1668135535  \n",
       "1      GB  1668135535  \n",
       "2      US  1668135145  \n",
       "3      YT  1668135536  \n",
       "4      AU  1668135536  "
      ]
     },
     "execution_count": 16,
     "metadata": {},
     "output_type": "execute_result"
    }
   ],
   "source": [
    "# Display sample data\n",
    "city_data_df.head()"
   ]
  },
  {
   "cell_type": "code",
   "execution_count": 18,
   "metadata": {},
   "outputs": [],
   "source": [
    "# Export the City_Data into a csv\n",
    "city_data_df.to_csv(\"output_data/cities.csv\", index_label=\"City_ID\")"
   ]
  },
  {
   "cell_type": "code",
   "execution_count": 19,
   "metadata": {},
   "outputs": [
    {
     "data": {
      "text/html": [
       "<div>\n",
       "<style scoped>\n",
       "    .dataframe tbody tr th:only-of-type {\n",
       "        vertical-align: middle;\n",
       "    }\n",
       "\n",
       "    .dataframe tbody tr th {\n",
       "        vertical-align: top;\n",
       "    }\n",
       "\n",
       "    .dataframe thead th {\n",
       "        text-align: right;\n",
       "    }\n",
       "</style>\n",
       "<table border=\"1\" class=\"dataframe\">\n",
       "  <thead>\n",
       "    <tr style=\"text-align: right;\">\n",
       "      <th></th>\n",
       "      <th>City</th>\n",
       "      <th>Lat</th>\n",
       "      <th>Lng</th>\n",
       "      <th>Max Temp</th>\n",
       "      <th>Humidity</th>\n",
       "      <th>Cloudiness</th>\n",
       "      <th>Wind Speed</th>\n",
       "      <th>Country</th>\n",
       "      <th>Date</th>\n",
       "    </tr>\n",
       "    <tr>\n",
       "      <th>City_ID</th>\n",
       "      <th></th>\n",
       "      <th></th>\n",
       "      <th></th>\n",
       "      <th></th>\n",
       "      <th></th>\n",
       "      <th></th>\n",
       "      <th></th>\n",
       "      <th></th>\n",
       "      <th></th>\n",
       "    </tr>\n",
       "  </thead>\n",
       "  <tbody>\n",
       "    <tr>\n",
       "      <th>0</th>\n",
       "      <td>rikitea</td>\n",
       "      <td>-23.1203</td>\n",
       "      <td>-134.9692</td>\n",
       "      <td>23.34</td>\n",
       "      <td>83</td>\n",
       "      <td>100</td>\n",
       "      <td>2.63</td>\n",
       "      <td>PF</td>\n",
       "      <td>1668135535</td>\n",
       "    </tr>\n",
       "    <tr>\n",
       "      <th>1</th>\n",
       "      <td>huntingdon</td>\n",
       "      <td>52.3305</td>\n",
       "      <td>-0.1865</td>\n",
       "      <td>15.52</td>\n",
       "      <td>79</td>\n",
       "      <td>99</td>\n",
       "      <td>3.58</td>\n",
       "      <td>GB</td>\n",
       "      <td>1668135535</td>\n",
       "    </tr>\n",
       "    <tr>\n",
       "      <th>2</th>\n",
       "      <td>jamestown</td>\n",
       "      <td>42.0970</td>\n",
       "      <td>-79.2353</td>\n",
       "      <td>16.77</td>\n",
       "      <td>50</td>\n",
       "      <td>0</td>\n",
       "      <td>4.63</td>\n",
       "      <td>US</td>\n",
       "      <td>1668135145</td>\n",
       "    </tr>\n",
       "    <tr>\n",
       "      <th>3</th>\n",
       "      <td>bandraboua</td>\n",
       "      <td>-12.7044</td>\n",
       "      <td>45.1223</td>\n",
       "      <td>25.82</td>\n",
       "      <td>78</td>\n",
       "      <td>10</td>\n",
       "      <td>4.13</td>\n",
       "      <td>YT</td>\n",
       "      <td>1668135536</td>\n",
       "    </tr>\n",
       "    <tr>\n",
       "      <th>4</th>\n",
       "      <td>ulladulla</td>\n",
       "      <td>-35.3500</td>\n",
       "      <td>150.4667</td>\n",
       "      <td>20.49</td>\n",
       "      <td>69</td>\n",
       "      <td>100</td>\n",
       "      <td>2.54</td>\n",
       "      <td>AU</td>\n",
       "      <td>1668135536</td>\n",
       "    </tr>\n",
       "  </tbody>\n",
       "</table>\n",
       "</div>"
      ],
      "text/plain": [
       "               City      Lat       Lng  Max Temp  Humidity  Cloudiness  \\\n",
       "City_ID                                                                  \n",
       "0           rikitea -23.1203 -134.9692     23.34        83         100   \n",
       "1        huntingdon  52.3305   -0.1865     15.52        79          99   \n",
       "2         jamestown  42.0970  -79.2353     16.77        50           0   \n",
       "3        bandraboua -12.7044   45.1223     25.82        78          10   \n",
       "4         ulladulla -35.3500  150.4667     20.49        69         100   \n",
       "\n",
       "         Wind Speed Country        Date  \n",
       "City_ID                                  \n",
       "0              2.63      PF  1668135535  \n",
       "1              3.58      GB  1668135535  \n",
       "2              4.63      US  1668135145  \n",
       "3              4.13      YT  1668135536  \n",
       "4              2.54      AU  1668135536  "
      ]
     },
     "execution_count": 19,
     "metadata": {},
     "output_type": "execute_result"
    }
   ],
   "source": [
    "# Read saved data\n",
    "city_data_df = pd.read_csv(\"output_data/cities.csv\", index_col=\"City_ID\")\n",
    "\n",
    "# Display sample data\n",
    "city_data_df.head()"
   ]
  },
  {
   "cell_type": "markdown",
   "metadata": {},
   "source": [
    "### Create the Scatter Plots Requested\n",
    "\n",
    "#### Latitude Vs. Temperature"
   ]
  },
  {
   "cell_type": "code",
   "execution_count": 22,
   "metadata": {
    "tags": []
   },
   "outputs": [
    {
     "data": {
      "image/png": "[encoded data removed]",
      "text/plain": [
       "<Figure size 432x288 with 1 Axes>"
      ]
     },
     "metadata": {
      "needs_background": "light"
     },
     "output_type": "display_data"
    }
   ],
   "source": [
    "# Build scatter plot for latitude vs. temperature\n",
    "plt.scatter(city_data_df[\"Lat\"],city_data_df[\"Max Temp\"])\n",
    "\n",
    "# Incorporate the other graph properties\n",
    "plt.xlabel('Latitude')\n",
    "plt.ylabel('Temperature')\n",
    "plt.title('Latitute vs. Max Temperature')\n",
    "\n",
    "# Save the figure\n",
    "plt.savefig(\"output_data/Fig1.png\")\n",
    "\n",
    "# Show plot\n",
    "plt.show()"
   ]
  },
  {
   "cell_type": "markdown",
   "metadata": {},
   "source": [
    "#### Latitude Vs. Humidity"
   ]
  },
  {
   "cell_type": "code",
   "execution_count": 23,
   "metadata": {},
   "outputs": [
    {
     "data": {
      "image/png": "[encoded data removed]",
      "text/plain": [
       "<Figure size 432x288 with 1 Axes>"
      ]
     },
     "metadata": {
      "needs_background": "light"
     },
     "output_type": "display_data"
    }
   ],
   "source": [
    "# Build the scatter plots for latitude vs. humidity\n",
    "plt.scatter(city_data_df[\"Lat\"],city_data_df[\"Humidity\"])\n",
    "\n",
    "# Incorporate the other graph properties\n",
    "plt.xlabel('Latitude')\n",
    "plt.ylabel('Humidity')\n",
    "plt.title('Latitute vs. Humidity')\n",
    "\n",
    "# Save the figure\n",
    "plt.savefig(\"output_data/Fig2.png\")\n",
    "\n",
    "# Show plot\n",
    "plt.show()"
   ]
  },
  {
   "cell_type": "markdown",
   "metadata": {},
   "source": [
    "#### Latitude Vs. Cloudiness"
   ]
  },
  {
   "cell_type": "code",
   "execution_count": 24,
   "metadata": {},
   "outputs": [
    {
     "data": {
      "image/png": "[encoded data removed]",
      "text/plain": [
       "<Figure size 432x288 with 1 Axes>"
      ]
     },
     "metadata": {
      "needs_background": "light"
     },
     "output_type": "display_data"
    }
   ],
   "source": [
    "# Build the scatter plots for latitude vs. cloudiness\n",
    "plt.scatter(city_data_df[\"Lat\"],city_data_df[\"Cloudiness\"])\n",
    "\n",
    "# Incorporate the other graph properties\n",
    "plt.xlabel('Latitude')\n",
    "plt.ylabel('Cloudiness')\n",
    "plt.title('Latitute vs. Cloudiness')\n",
    "\n",
    "# Save the figure\n",
    "plt.savefig(\"output_data/Fig3.png\")\n",
    "\n",
    "# Show plot\n",
    "plt.show()"
   ]
  },
  {
   "cell_type": "markdown",
   "metadata": {},
   "source": [
    "#### Latitude vs. Wind Speed Plot"
   ]
  },
  {
   "cell_type": "code",
   "execution_count": 25,
   "metadata": {},
   "outputs": [
    {
     "data": {
      "image/png": "[encoded data removed]",
      "text/plain": [
       "<Figure size 432x288 with 1 Axes>"
      ]
     },
     "metadata": {
      "needs_background": "light"
     },
     "output_type": "display_data"
    }
   ],
   "source": [
    "# Build the scatter plots for latitude vs. wind speed\n",
    "plt.scatter(city_data_df[\"Lat\"],city_data_df[\"Wind Speed\"])\n",
    "\n",
    "# Incorporate the other graph properties\n",
    "plt.xlabel('Latitude')\n",
    "plt.ylabel('Wind Speed')\n",
    "plt.title('Latitute vs. Wind Speed')\n",
    "\n",
    "# Save the figure\n",
    "plt.savefig(\"output_data/Fig4.png\")\n",
    "\n",
    "# Show plot\n",
    "plt.show()"
   ]
  },
  {
   "cell_type": "markdown",
   "metadata": {},
   "source": [
    "---\n",
    "\n",
    "## Requirement 2: Compute Linear Regression for Each Relationship\n"
   ]
  },
  {
   "cell_type": "code",
   "execution_count": 67,
   "metadata": {},
   "outputs": [],
   "source": [
    "# Define a function to create Linear Regression plots\n",
    "def regressionCalc(x_values,y_values):\n",
    "    (slope, intercept, rvalue, pvalue, stderr) = linregress(x_values, y_values)\n",
    "    regress_values = x_values * slope + intercept\n",
    "    line_eq = \"y = \" + str(round(slope,2)) + \"x + \" + str(round(intercept,2))\n",
    "    plt.scatter(x_values,y_values)\n",
    "    plt.plot(x_values,regress_values,\"r-\")\n",
    "    plt.annotate(line_eq,(0,np.mean(y_values)),fontsize=15,color=\"red\")\n",
    "    print(f\"The r-value is: {rvalue}\")\n",
    "    print(\"\\nLine Equation: \" + line_eq)\n",
    "    return"
   ]
  },
  {
   "cell_type": "code",
   "execution_count": 31,
   "metadata": {},
   "outputs": [
    {
     "data": {
      "text/html": [
       "<div>\n",
       "<style scoped>\n",
       "    .dataframe tbody tr th:only-of-type {\n",
       "        vertical-align: middle;\n",
       "    }\n",
       "\n",
       "    .dataframe tbody tr th {\n",
       "        vertical-align: top;\n",
       "    }\n",
       "\n",
       "    .dataframe thead th {\n",
       "        text-align: right;\n",
       "    }\n",
       "</style>\n",
       "<table border=\"1\" class=\"dataframe\">\n",
       "  <thead>\n",
       "    <tr style=\"text-align: right;\">\n",
       "      <th></th>\n",
       "      <th>City</th>\n",
       "      <th>Lat</th>\n",
       "      <th>Lng</th>\n",
       "      <th>Max Temp</th>\n",
       "      <th>Humidity</th>\n",
       "      <th>Cloudiness</th>\n",
       "      <th>Wind Speed</th>\n",
       "      <th>Country</th>\n",
       "      <th>Date</th>\n",
       "    </tr>\n",
       "    <tr>\n",
       "      <th>City_ID</th>\n",
       "      <th></th>\n",
       "      <th></th>\n",
       "      <th></th>\n",
       "      <th></th>\n",
       "      <th></th>\n",
       "      <th></th>\n",
       "      <th></th>\n",
       "      <th></th>\n",
       "      <th></th>\n",
       "    </tr>\n",
       "  </thead>\n",
       "  <tbody>\n",
       "    <tr>\n",
       "      <th>1</th>\n",
       "      <td>huntingdon</td>\n",
       "      <td>52.3305</td>\n",
       "      <td>-0.1865</td>\n",
       "      <td>15.52</td>\n",
       "      <td>79</td>\n",
       "      <td>99</td>\n",
       "      <td>3.58</td>\n",
       "      <td>GB</td>\n",
       "      <td>1668135535</td>\n",
       "    </tr>\n",
       "    <tr>\n",
       "      <th>2</th>\n",
       "      <td>jamestown</td>\n",
       "      <td>42.0970</td>\n",
       "      <td>-79.2353</td>\n",
       "      <td>16.77</td>\n",
       "      <td>50</td>\n",
       "      <td>0</td>\n",
       "      <td>4.63</td>\n",
       "      <td>US</td>\n",
       "      <td>1668135145</td>\n",
       "    </tr>\n",
       "    <tr>\n",
       "      <th>5</th>\n",
       "      <td>turtas</td>\n",
       "      <td>58.9417</td>\n",
       "      <td>69.1325</td>\n",
       "      <td>-2.03</td>\n",
       "      <td>97</td>\n",
       "      <td>100</td>\n",
       "      <td>1.39</td>\n",
       "      <td>RU</td>\n",
       "      <td>1668135537</td>\n",
       "    </tr>\n",
       "    <tr>\n",
       "      <th>6</th>\n",
       "      <td>albany</td>\n",
       "      <td>42.6001</td>\n",
       "      <td>-73.9662</td>\n",
       "      <td>11.92</td>\n",
       "      <td>81</td>\n",
       "      <td>49</td>\n",
       "      <td>1.01</td>\n",
       "      <td>US</td>\n",
       "      <td>1668135336</td>\n",
       "    </tr>\n",
       "    <tr>\n",
       "      <th>9</th>\n",
       "      <td>nuuk</td>\n",
       "      <td>64.1835</td>\n",
       "      <td>-51.7216</td>\n",
       "      <td>-7.16</td>\n",
       "      <td>57</td>\n",
       "      <td>100</td>\n",
       "      <td>4.00</td>\n",
       "      <td>GL</td>\n",
       "      <td>1668135538</td>\n",
       "    </tr>\n",
       "  </tbody>\n",
       "</table>\n",
       "</div>"
      ],
      "text/plain": [
       "               City      Lat      Lng  Max Temp  Humidity  Cloudiness  \\\n",
       "City_ID                                                                 \n",
       "1        huntingdon  52.3305  -0.1865     15.52        79          99   \n",
       "2         jamestown  42.0970 -79.2353     16.77        50           0   \n",
       "5            turtas  58.9417  69.1325     -2.03        97         100   \n",
       "6            albany  42.6001 -73.9662     11.92        81          49   \n",
       "9              nuuk  64.1835 -51.7216     -7.16        57         100   \n",
       "\n",
       "         Wind Speed Country        Date  \n",
       "City_ID                                  \n",
       "1              3.58      GB  1668135535  \n",
       "2              4.63      US  1668135145  \n",
       "5              1.39      RU  1668135537  \n",
       "6              1.01      US  1668135336  \n",
       "9              4.00      GL  1668135538  "
      ]
     },
     "execution_count": 31,
     "metadata": {},
     "output_type": "execute_result"
    }
   ],
   "source": [
    "# Create a DataFrame with the Northern Hemisphere data (Latitude >= 0)\n",
    "northern_hemi_df = city_data_df[city_data_df[\"Lat\"]>0]\n",
    "\n",
    "# Display sample data\n",
    "northern_hemi_df.head()"
   ]
  },
  {
   "cell_type": "code",
   "execution_count": 32,
   "metadata": {},
   "outputs": [
    {
     "data": {
      "text/html": [
       "<div>\n",
       "<style scoped>\n",
       "    .dataframe tbody tr th:only-of-type {\n",
       "        vertical-align: middle;\n",
       "    }\n",
       "\n",
       "    .dataframe tbody tr th {\n",
       "        vertical-align: top;\n",
       "    }\n",
       "\n",
       "    .dataframe thead th {\n",
       "        text-align: right;\n",
       "    }\n",
       "</style>\n",
       "<table border=\"1\" class=\"dataframe\">\n",
       "  <thead>\n",
       "    <tr style=\"text-align: right;\">\n",
       "      <th></th>\n",
       "      <th>City</th>\n",
       "      <th>Lat</th>\n",
       "      <th>Lng</th>\n",
       "      <th>Max Temp</th>\n",
       "      <th>Humidity</th>\n",
       "      <th>Cloudiness</th>\n",
       "      <th>Wind Speed</th>\n",
       "      <th>Country</th>\n",
       "      <th>Date</th>\n",
       "    </tr>\n",
       "    <tr>\n",
       "      <th>City_ID</th>\n",
       "      <th></th>\n",
       "      <th></th>\n",
       "      <th></th>\n",
       "      <th></th>\n",
       "      <th></th>\n",
       "      <th></th>\n",
       "      <th></th>\n",
       "      <th></th>\n",
       "      <th></th>\n",
       "    </tr>\n",
       "  </thead>\n",
       "  <tbody>\n",
       "    <tr>\n",
       "      <th>0</th>\n",
       "      <td>rikitea</td>\n",
       "      <td>-23.1203</td>\n",
       "      <td>-134.9692</td>\n",
       "      <td>23.34</td>\n",
       "      <td>83</td>\n",
       "      <td>100</td>\n",
       "      <td>2.63</td>\n",
       "      <td>PF</td>\n",
       "      <td>1668135535</td>\n",
       "    </tr>\n",
       "    <tr>\n",
       "      <th>3</th>\n",
       "      <td>bandraboua</td>\n",
       "      <td>-12.7044</td>\n",
       "      <td>45.1223</td>\n",
       "      <td>25.82</td>\n",
       "      <td>78</td>\n",
       "      <td>10</td>\n",
       "      <td>4.13</td>\n",
       "      <td>YT</td>\n",
       "      <td>1668135536</td>\n",
       "    </tr>\n",
       "    <tr>\n",
       "      <th>4</th>\n",
       "      <td>ulladulla</td>\n",
       "      <td>-35.3500</td>\n",
       "      <td>150.4667</td>\n",
       "      <td>20.49</td>\n",
       "      <td>69</td>\n",
       "      <td>100</td>\n",
       "      <td>2.54</td>\n",
       "      <td>AU</td>\n",
       "      <td>1668135536</td>\n",
       "    </tr>\n",
       "    <tr>\n",
       "      <th>7</th>\n",
       "      <td>katobu</td>\n",
       "      <td>-4.9408</td>\n",
       "      <td>122.5276</td>\n",
       "      <td>33.20</td>\n",
       "      <td>52</td>\n",
       "      <td>42</td>\n",
       "      <td>0.16</td>\n",
       "      <td>ID</td>\n",
       "      <td>1668135537</td>\n",
       "    </tr>\n",
       "    <tr>\n",
       "      <th>8</th>\n",
       "      <td>ushuaia</td>\n",
       "      <td>-54.8000</td>\n",
       "      <td>-68.3000</td>\n",
       "      <td>6.81</td>\n",
       "      <td>70</td>\n",
       "      <td>20</td>\n",
       "      <td>3.60</td>\n",
       "      <td>AR</td>\n",
       "      <td>1668135538</td>\n",
       "    </tr>\n",
       "  </tbody>\n",
       "</table>\n",
       "</div>"
      ],
      "text/plain": [
       "               City      Lat       Lng  Max Temp  Humidity  Cloudiness  \\\n",
       "City_ID                                                                  \n",
       "0           rikitea -23.1203 -134.9692     23.34        83         100   \n",
       "3        bandraboua -12.7044   45.1223     25.82        78          10   \n",
       "4         ulladulla -35.3500  150.4667     20.49        69         100   \n",
       "7            katobu  -4.9408  122.5276     33.20        52          42   \n",
       "8           ushuaia -54.8000  -68.3000      6.81        70          20   \n",
       "\n",
       "         Wind Speed Country        Date  \n",
       "City_ID                                  \n",
       "0              2.63      PF  1668135535  \n",
       "3              4.13      YT  1668135536  \n",
       "4              2.54      AU  1668135536  \n",
       "7              0.16      ID  1668135537  \n",
       "8              3.60      AR  1668135538  "
      ]
     },
     "execution_count": 32,
     "metadata": {},
     "output_type": "execute_result"
    }
   ],
   "source": [
    "# Create a DataFrame with the Southern Hemisphere data (Latitude < 0)\n",
    "southern_hemi_df = city_data_df[city_data_df[\"Lat\"]<0]\n",
    "\n",
    "\n",
    "# Display sample data\n",
    "southern_hemi_df.head()"
   ]
  },
  {
   "cell_type": "markdown",
   "metadata": {},
   "source": [
    "###  Temperature vs. Latitude Linear Regression Plot"
   ]
  },
  {
   "cell_type": "code",
   "execution_count": 68,
   "metadata": {},
   "outputs": [
    {
     "name": "stdout",
     "output_type": "stream",
     "text": [
      "The r-value is: -0.8573620806841644\n",
      "\n",
      "Line Equation: y = -0.6x + 33.43\n"
     ]
    },
    {
     "data": {
      "text/plain": [
       "Text(0.5, 1.0, 'Latitute vs. Max Temperature (Northern)')"
      ]
     },
     "execution_count": 68,
     "metadata": {},
     "output_type": "execute_result"
    },
    {
     "data": {
      "image/png": "[encoded data removed]",
      "text/plain": [
       "<Figure size 432x288 with 1 Axes>"
      ]
     },
     "metadata": {
      "needs_background": "light"
     },
     "output_type": "display_data"
    }
   ],
   "source": [
    "# Linear regression on Northern Hemisphere\n",
    "regressionCalc(northern_hemi_df[\"Lat\"],northern_hemi_df[\"Max Temp\"])\n",
    "plt.xlabel('Latitude')\n",
    "plt.ylabel('Temperature')\n",
    "plt.title('Latitute vs. Max Temperature (Northern)')"
   ]
  },
  {
   "cell_type": "code",
   "execution_count": 69,
   "metadata": {},
   "outputs": [
    {
     "name": "stdout",
     "output_type": "stream",
     "text": [
      "The r-value is: 0.5404746142467165\n",
      "\n",
      "Line Equation: y = 0.24x + 26.47\n"
     ]
    },
    {
     "data": {
      "text/plain": [
       "Text(0.5, 1.0, 'Latitute vs. Max Temperature (Southern)')"
      ]
     },
     "execution_count": 69,
     "metadata": {},
     "output_type": "execute_result"
    },
    {
     "data": {
      "image/png": "[encoded data removed]",
      "text/plain": [
       "<Figure size 432x288 with 1 Axes>"
      ]
     },
     "metadata": {
      "needs_background": "light"
     },
     "output_type": "display_data"
    }
   ],
   "source": [
    "# Linear regression on Southern Hemisphere\n",
    "regressionCalc(southern_hemi_df[\"Lat\"],southern_hemi_df[\"Max Temp\"])\n",
    "plt.xlabel('Latitude')\n",
    "plt.ylabel('Temperature')\n",
    "plt.title('Latitute vs. Max Temperature (Southern)')"
   ]
  },
  {
   "cell_type": "markdown",
   "metadata": {},
   "source": [
    "**Discussion about the linear relationship:** As expected, temperature decreases as you get further from the equator. Interestingly, the correlation is significantly stronger in the Northern Hemisphere for this data set."
   ]
  },
  {
   "cell_type": "markdown",
   "metadata": {},
   "source": [
    "### Humidity vs. Latitude Linear Regression Plot"
   ]
  },
  {
   "cell_type": "code",
   "execution_count": 70,
   "metadata": {},
   "outputs": [
    {
     "name": "stdout",
     "output_type": "stream",
     "text": [
      "The r-value is: 0.29919701355612005\n",
      "\n",
      "Line Equation: y = 0.27x + 65.6\n"
     ]
    },
    {
     "data": {
      "text/plain": [
       "Text(0.5, 1.0, 'Latitute vs. Humidity (Northern)')"
      ]
     },
     "execution_count": 70,
     "metadata": {},
     "output_type": "execute_result"
    },
    {
     "data": {
      "image/png": "[encoded data removed]",
      "text/plain": [
       "<Figure size 432x288 with 1 Axes>"
      ]
     },
     "metadata": {
      "needs_background": "light"
     },
     "output_type": "display_data"
    }
   ],
   "source": [
    "# Northern Hemisphere\n",
    "regressionCalc(northern_hemi_df[\"Lat\"],northern_hemi_df[\"Humidity\"])\n",
    "plt.xlabel('Latitude')\n",
    "plt.ylabel('Humidity')\n",
    "plt.title('Latitute vs. Humidity (Northern)')"
   ]
  },
  {
   "cell_type": "code",
   "execution_count": 71,
   "metadata": {},
   "outputs": [
    {
     "name": "stdout",
     "output_type": "stream",
     "text": [
      "The r-value is: 0.09424920014719512\n",
      "\n",
      "Line Equation: y = 0.12x + 78.15\n"
     ]
    },
    {
     "data": {
      "text/plain": [
       "Text(0.5, 1.0, 'Latitute vs. Humidity (Southern)')"
      ]
     },
     "execution_count": 71,
     "metadata": {},
     "output_type": "execute_result"
    },
    {
     "data": {
      "image/png": "[encoded data removed]",
      "text/plain": [
       "<Figure size 432x288 with 1 Axes>"
      ]
     },
     "metadata": {
      "needs_background": "light"
     },
     "output_type": "display_data"
    }
   ],
   "source": [
    "# Southern Hemisphere\n",
    "regressionCalc(southern_hemi_df[\"Lat\"],southern_hemi_df[\"Humidity\"])\n",
    "plt.xlabel('Latitude')\n",
    "plt.ylabel('Humidity')\n",
    "plt.title('Latitute vs. Humidity (Southern)')"
   ]
  },
  {
   "cell_type": "markdown",
   "metadata": {},
   "source": [
    "**Discussion about the linear relationship:** There appears not to be a significant correlation between latitude and humidity. While our data shows a slight positive correlation in the Northern Hemisphere, there is virtually no correlation in the Southern Hemisphere."
   ]
  },
  {
   "cell_type": "markdown",
   "metadata": {},
   "source": [
    "### Cloudiness vs. Latitude Linear Regression Plot"
   ]
  },
  {
   "cell_type": "code",
   "execution_count": 72,
   "metadata": {},
   "outputs": [
    {
     "name": "stdout",
     "output_type": "stream",
     "text": [
      "The r-value is: 0.26703653846775677\n",
      "\n",
      "Line Equation: y = 0.53x + 40.96\n"
     ]
    },
    {
     "data": {
      "text/plain": [
       "Text(0.5, 1.0, 'Latitute vs. Cloudiness (Northern)')"
      ]
     },
     "execution_count": 72,
     "metadata": {},
     "output_type": "execute_result"
    },
    {
     "data": {
      "image/png": "[encoded data removed]",
      "text/plain": [
       "<Figure size 432x288 with 1 Axes>"
      ]
     },
     "metadata": {
      "needs_background": "light"
     },
     "output_type": "display_data"
    }
   ],
   "source": [
    "# Northern Hemisphere\n",
    "regressionCalc(northern_hemi_df[\"Lat\"],northern_hemi_df[\"Cloudiness\"])\n",
    "plt.xlabel('Latitude')\n",
    "plt.ylabel('Cloudiness')\n",
    "plt.title('Latitute vs. Cloudiness (Northern)')"
   ]
  },
  {
   "cell_type": "code",
   "execution_count": 73,
   "metadata": {},
   "outputs": [
    {
     "name": "stdout",
     "output_type": "stream",
     "text": [
      "The r-value is: 0.07311178583680653\n",
      "\n",
      "Line Equation: y = 0.2x + 64.97\n"
     ]
    },
    {
     "data": {
      "text/plain": [
       "Text(0.5, 1.0, 'Latitute vs. Cloudiness (Southern)')"
      ]
     },
     "execution_count": 73,
     "metadata": {},
     "output_type": "execute_result"
    },
    {
     "data": {
      "image/png": "[encoded data removed]",
      "text/plain": [
       "<Figure size 432x288 with 1 Axes>"
      ]
     },
     "metadata": {
      "needs_background": "light"
     },
     "output_type": "display_data"
    }
   ],
   "source": [
    "# Southern Hemisphere\n",
    "regressionCalc(southern_hemi_df[\"Lat\"],southern_hemi_df[\"Cloudiness\"])\n",
    "plt.xlabel('Latitude')\n",
    "plt.ylabel('Cloudiness')\n",
    "plt.title('Latitute vs. Cloudiness (Southern)')"
   ]
  },
  {
   "cell_type": "markdown",
   "metadata": {},
   "source": [
    "**Discussion about the linear relationship:** Similar to the relationship between latitude and humidity. In the Northern Hemisphere, this relationship is positive with a week correlation. In the Southern Hemisphere, there is again almost no correlation."
   ]
  },
  {
   "cell_type": "markdown",
   "metadata": {},
   "source": [
    "### Wind Speed vs. Latitude Linear Regression Plot"
   ]
  },
  {
   "cell_type": "code",
   "execution_count": 74,
   "metadata": {},
   "outputs": [
    {
     "name": "stdout",
     "output_type": "stream",
     "text": [
      "The r-value is: 0.1995979623169478\n",
      "\n",
      "Line Equation: y = 0.03x + 2.47\n"
     ]
    },
    {
     "data": {
      "text/plain": [
       "Text(0.5, 1.0, 'Latitute vs. Wind Speed (Northern)')"
      ]
     },
     "execution_count": 74,
     "metadata": {},
     "output_type": "execute_result"
    },
    {
     "data": {
      "image/png": "[encoded data removed]",
      "text/plain": [
       "<Figure size 432x288 with 1 Axes>"
      ]
     },
     "metadata": {
      "needs_background": "light"
     },
     "output_type": "display_data"
    }
   ],
   "source": [
    "# Northern Hemisphere\n",
    "regressionCalc(northern_hemi_df[\"Lat\"],northern_hemi_df[\"Wind Speed\"])\n",
    "plt.xlabel('Latitude')\n",
    "plt.ylabel('Wind Speed')\n",
    "plt.title('Latitute vs. Wind Speed (Northern)')"
   ]
  },
  {
   "cell_type": "code",
   "execution_count": 75,
   "metadata": {},
   "outputs": [
    {
     "name": "stdout",
     "output_type": "stream",
     "text": [
      "The r-value is: -0.3061547934184032\n",
      "\n",
      "Line Equation: y = -0.05x + 2.23\n"
     ]
    },
    {
     "data": {
      "text/plain": [
       "Text(0.5, 1.0, 'Latitute vs. Wind Speed (Southern)')"
      ]
     },
     "execution_count": 75,
     "metadata": {},
     "output_type": "execute_result"
    },
    {
     "data": {
      "image/png": "[encoded data removed]",
      "text/plain": [
       "<Figure size 432x288 with 1 Axes>"
      ]
     },
     "metadata": {
      "needs_background": "light"
     },
     "output_type": "display_data"
    }
   ],
   "source": [
    "# Southern Hemisphere\n",
    "regressionCalc(southern_hemi_df[\"Lat\"],southern_hemi_df[\"Wind Speed\"])\n",
    "plt.xlabel('Latitude')\n",
    "plt.ylabel('Wind Speed')\n",
    "plt.title('Latitute vs. Wind Speed (Southern)')"
   ]
  },
  {
   "cell_type": "markdown",
   "metadata": {},
   "source": [
    "**Discussion about the linear relationship:** In the Northern Hemisphere, there is a weak positive correlation between latitude and cloudiness as you go further North. In the Southern Hemisphere, there is a weak negative correlation (it gets windier as you go further South). This could be explained by artic and antarctic areas being largely tundra with little vegetation to interfere with the wind."
   ]
  },
  {
   "cell_type": "code",
   "execution_count": null,
   "metadata": {},
   "outputs": [],
   "source": []
  }
 ],
 "metadata": {
  "anaconda-cloud": {},
  "kernel_info": {
   "name": "python3"
  },
  "kernelspec": {
   "display_name": "Python 3 (ipykernel)",
   "language": "python",
   "name": "python3"
  },
  "language_info": {
   "codemirror_mode": {
    "name": "ipython",
    "version": 3
   },
   "file_extension": ".py",
   "mimetype": "text/x-python",
   "name": "python",
   "nbconvert_exporter": "python",
   "pygments_lexer": "ipython3",
   "version": "3.9.12"
  },
  "latex_envs": {
   "LaTeX_envs_menu_present": true,
   "autoclose": false,
   "autocomplete": true,
   "bibliofile": "biblio.bib",
   "cite_by": "apalike",
   "current_citInitial": 1,
   "eqLabelWithNumbers": true,
   "eqNumInitial": 1,
   "hotkeys": {
    "equation": "Ctrl-E",
    "itemize": "Ctrl-I"
   },
   "labels_anchors": false,
   "latex_user_defs": false,
   "report_style_numbering": false,
   "user_envs_cfg": false
  },
  "nteract": {
   "version": "0.12.3"
  }
 },
 "nbformat": 4,
 "nbformat_minor": 4
}
